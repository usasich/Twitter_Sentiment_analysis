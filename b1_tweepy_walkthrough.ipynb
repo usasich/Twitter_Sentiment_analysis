{
  "nbformat": 4,
  "nbformat_minor": 0,
  "metadata": {
    "colab": {
      "provenance": [],
      "collapsed_sections": [
        "uJcg5S9ujSLb",
        "LwuM_oLmRspH",
        "rUdfYMvNR4Lk",
        "E4-arYLAiRXh",
        "4HAbsbvQiaxF",
        "IKjTKkYqirCO",
        "K9jsvMAsi01T",
        "ZJZbAx3hjCoY",
        "lF7VgsCljJA-",
        "DyHJr7IyOTK3",
        "zSsoTq2NjPa2"
      ],
      "include_colab_link": true
    },
    "kernelspec": {
      "name": "python3",
      "display_name": "Python 3"
    },
    "language_info": {
      "name": "python"
    }
  },
  "cells": [
    {
      "cell_type": "markdown",
      "metadata": {
        "id": "view-in-github",
        "colab_type": "text"
      },
      "source": [
        "<a href=\"https://colab.research.google.com/github/usasich/Twitter_Sentiment_analysis/blob/main/b1_tweepy_walkthrough.ipynb\" target=\"_parent\"><img src=\"https://colab.research.google.com/assets/colab-badge.svg\" alt=\"Open In Colab\"/></a>"
      ]
    },
    {
      "cell_type": "markdown",
      "source": [
        "# **Tutorial\\#1: Testing Twitter API**"
      ],
      "metadata": {
        "id": "mPv7Web_lwMG"
      }
    },
    {
      "cell_type": "code",
      "source": [
        "API_Key         = \"replace_me\"\n",
        "API_Secret      = \"replace_me\"\n",
        "Bearer_Token    = \"replace_me\"\n",
        "Access_Token    = \"replace_me\"\n",
        "Access_Secret   = \"replace_me\""
      ],
      "metadata": {
        "id": "xVjT--AWl2ni"
      },
      "execution_count": null,
      "outputs": []
    },
    {
      "cell_type": "markdown",
      "source": [
        "### Get recent public tweets on keywords"
      ],
      "metadata": {
        "id": "uJcg5S9ujSLb"
      }
    },
    {
      "cell_type": "code",
      "source": [
        "!pip install tweepy==4.9.0\n",
        "import tweepy"
      ],
      "metadata": {
        "colab": {
          "base_uri": "https://localhost:8080/"
        },
        "id": "dhS7GLU7Mr0R",
        "outputId": "b0a5ed14-dec7-4a9e-855c-c8be92d02b12"
      },
      "execution_count": null,
      "outputs": [
        {
          "output_type": "stream",
          "name": "stdout",
          "text": [
            "Looking in indexes: https://pypi.org/simple, https://us-python.pkg.dev/colab-wheels/public/simple/\n",
            "Collecting tweepy==4.9.0\n",
            "  Downloading tweepy-4.9.0-py3-none-any.whl (77 kB)\n",
            "\u001b[2K     \u001b[90m━━━━━━━━━━━━━━━━━━━━━━━━━━━━━━━━━━━━━━━━\u001b[0m \u001b[32m78.0/78.0 kB\u001b[0m \u001b[31m7.4 MB/s\u001b[0m eta \u001b[36m0:00:00\u001b[0m\n",
            "\u001b[?25hRequirement already satisfied: oauthlib<4,>=3.2.0 in /usr/local/lib/python3.10/dist-packages (from tweepy==4.9.0) (3.2.2)\n",
            "Requirement already satisfied: requests<3,>=2.27.0 in /usr/local/lib/python3.10/dist-packages (from tweepy==4.9.0) (2.27.1)\n",
            "Requirement already satisfied: requests-oauthlib<2,>=1.2.0 in /usr/local/lib/python3.10/dist-packages (from tweepy==4.9.0) (1.3.1)\n",
            "Requirement already satisfied: urllib3<1.27,>=1.21.1 in /usr/local/lib/python3.10/dist-packages (from requests<3,>=2.27.0->tweepy==4.9.0) (1.26.15)\n",
            "Requirement already satisfied: certifi>=2017.4.17 in /usr/local/lib/python3.10/dist-packages (from requests<3,>=2.27.0->tweepy==4.9.0) (2022.12.7)\n",
            "Requirement already satisfied: charset-normalizer~=2.0.0 in /usr/local/lib/python3.10/dist-packages (from requests<3,>=2.27.0->tweepy==4.9.0) (2.0.12)\n",
            "Requirement already satisfied: idna<4,>=2.5 in /usr/local/lib/python3.10/dist-packages (from requests<3,>=2.27.0->tweepy==4.9.0) (3.4)\n",
            "Installing collected packages: tweepy\n",
            "  Attempting uninstall: tweepy\n",
            "    Found existing installation: tweepy 4.13.0\n",
            "    Uninstalling tweepy-4.13.0:\n",
            "      Successfully uninstalled tweepy-4.13.0\n",
            "Successfully installed tweepy-4.9.0\n"
          ]
        }
      ]
    },
    {
      "cell_type": "code",
      "source": [
        "# Authenticate with Twitter OAuth 2.0 Bearer Token (Application-only)\n",
        "client = tweepy.Client(Bearer_Token)"
      ],
      "metadata": {
        "id": "4WAainzWMw-_"
      },
      "execution_count": null,
      "outputs": []
    },
    {
      "cell_type": "code",
      "source": [
        "# Pull tweets from twitter\n",
        "\n",
        "query = '#chatgpt -is:retweet lang:en'\n",
        "tweets = client.search_recent_tweets(query=query, tweet_fields=['context_annotations', 'created_at'], max_results=10)\n",
        "\n",
        "# Get tweets that contain the hashtag #TypeKeywordHere\n",
        "# -is:retweet means I don't want retweets\n",
        "# lang:en is asking for the tweets to be in english"
      ],
      "metadata": {
        "id": "H2vOTd4vRkHf"
      },
      "execution_count": null,
      "outputs": []
    },
    {
      "cell_type": "code",
      "source": [
        "for tweet in tweets.data:\n",
        "    print('\\n**Tweet Text**\\n',tweet.text)"
      ],
      "metadata": {
        "id": "49DQPigxVOhu",
        "colab": {
          "base_uri": "https://localhost:8080/"
        },
        "outputId": "190b9ad0-fd23-4d5d-da64-ed3d6d370ffb"
      },
      "execution_count": null,
      "outputs": [
        {
          "output_type": "stream",
          "name": "stdout",
          "text": [
            "\n",
            "**Tweet Text**\n",
            " 🚀Discover how #ChatGPT can create complex data visualization with Python.\n",
            "\n",
            "All with the power of prompt engineering!\n",
            "\n",
            "Don't miss out on my new easy-peasy hands-on article  to prompt GPT for terrific results.\n",
            "https://t.co/uaeNeYo6tN\n",
            "#DataViz #Python\n",
            "\n",
            "**Tweet Text**\n",
            " cusp\n",
            "challengetion\n",
            "paedogovernmentetic\n",
            "niceation\n",
            "borent\n",
            "templ \n",
            "#项目 #ChatGPT #副业\n",
            "\n",
            "**Tweet Text**\n",
            " 6V .net SOLD for $8,100 at Godaddy, Jun'23 (not mine).\n",
            "\n",
            "❤️ BardEmail .com - Listed for Sale 🔥\n",
            "&gt; Visit the link for details.\n",
            "\n",
            "#Domains #GPT #AI #Bitcoin #NFT \n",
            "#BardPeople #Bard #People #Google #Chat #ChatGPT #Love #Fashion #Beauty\n",
            "#SerieA #Web3 #blockchain #FACupFinal jisoo https://t.co/C4ApSSmtLU\n",
            "\n",
            "**Tweet Text**\n",
            " breviess\n",
            "vanproof\n",
            "pteryality\n",
            "childify\n",
            "carryical\n",
            "scrib \n",
            "#ChatGPT #NBA #灰产\n",
            "\n",
            "**Tweet Text**\n",
            " Doodle masterpiece creation. \n",
            "#ChatGPT账号 #ChatGPT https://t.co/1mAjRAdV4I\n",
            "\n",
            "**Tweet Text**\n",
            " decisionorium\n",
            "pointatory\n",
            "calitious\n",
            "oculery\n",
            "skinard\n",
            "cocy \n",
            "#推特号 #ChatGPT #USDT\n",
            "\n",
            "**Tweet Text**\n",
            " #ChatGPT &amp; #GenerativeAI in #ContentMarketing: Reality, Hype, What's Next, and How to Prepare\n",
            "\n",
            " #GAI #AI #ArtificialIntelligence #marketing #video #content\n",
            "\n",
            "https://t.co/FrKP3W9eKV https://t.co/46sOj01Mdz\n",
            "\n",
            "**Tweet Text**\n",
            " season\n",
            "theoryance\n",
            "fallfold\n",
            "experiaster\n",
            "pangian\n",
            "conactionature \n",
            "#ChatGPT #兼职 #黑U\n",
            "\n",
            "**Tweet Text**\n",
            " season\n",
            "theoryance\n",
            "fallfold\n",
            "experiaster\n",
            "pangian\n",
            "conactionature \n",
            "#ChatGPT #兼职 #黑U\n",
            "\n",
            "**Tweet Text**\n",
            " season\n",
            "theoryance\n",
            "fallfold\n",
            "experiaster\n",
            "pangian\n",
            "conactionature \n",
            "#ChatGPT #兼职 #黑U\n"
          ]
        }
      ]
    },
    {
      "cell_type": "markdown",
      "source": [
        "# **Tutorial\\#2: Tweepy Walkthrough**"
      ],
      "metadata": {
        "id": "hDz0sTHKpMJP"
      }
    },
    {
      "cell_type": "markdown",
      "source": [
        "## Tweepy - API Class (Twitter API v1.1)"
      ],
      "metadata": {
        "id": "LwuM_oLmRspH"
      }
    },
    {
      "cell_type": "markdown",
      "source": [
        "### Set up environment"
      ],
      "metadata": {
        "id": "rUdfYMvNR4Lk"
      }
    },
    {
      "cell_type": "code",
      "source": [
        "# !pip install tweepy==4.9.0\n",
        "# import tweepy"
      ],
      "metadata": {
        "id": "7Ur3YFMkWdPv"
      },
      "execution_count": null,
      "outputs": []
    },
    {
      "cell_type": "markdown",
      "source": [
        "### Authentication"
      ],
      "metadata": {
        "id": "E4-arYLAiRXh"
      }
    },
    {
      "cell_type": "code",
      "source": [
        "# Authenticate with Twitter OAuth 1.0a User Context\n",
        "auth = tweepy.OAuth1UserHandler(\n",
        "\n",
        "   API_Key,                     # API / Consumer Key here\n",
        "   API_Secret,                  # API / Consumer Secret here\n",
        "   Access_Token,                # Access Token here\n",
        "   Access_Secret                # Access Token Secret here\n",
        ")\n",
        "api = tweepy.API(auth)"
      ],
      "metadata": {
        "id": "jOf9n-6iJje8"
      },
      "execution_count": null,
      "outputs": []
    },
    {
      "cell_type": "markdown",
      "source": [
        "### Make a tweet\n"
      ],
      "metadata": {
        "id": "4HAbsbvQiaxF"
      }
    },
    {
      "cell_type": "code",
      "source": [
        "tweet = api.update_status(\"Hey there!! Courtesy: Tweepy v3\")"
      ],
      "metadata": {
        "id": "y_lfZZC6J1Ak"
      },
      "execution_count": null,
      "outputs": []
    },
    {
      "cell_type": "markdown",
      "source": [
        "### Get tweets from home timeline"
      ],
      "metadata": {
        "id": "IKjTKkYqirCO"
      }
    },
    {
      "cell_type": "code",
      "source": [
        "# Get recent tweets from your home timeline\n",
        "tweets = api.home_timeline(count=5)\n",
        "for tweet in tweets:\n",
        "    print(tweet.text,'\\n')"
      ],
      "metadata": {
        "id": "gf83fNmbLm7O",
        "colab": {
          "base_uri": "https://localhost:8080/"
        },
        "outputId": "7c4708e7-b013-4c92-cdb8-b542cf91d86b"
      },
      "execution_count": null,
      "outputs": [
        {
          "output_type": "stream",
          "name": "stdout",
          "text": [
            "Hey there!! Courtesy: Tweepy v3 \n",
            "\n",
            "Hey there!! Courtesy: Tweepy 2023 - v2 \n",
            "\n",
            "Hey there!! Courtesy: Tweepy 2023 \n",
            "\n",
            "Many have been asking this question.  The Railways do have an indigenous Automatic Train Protection (ATP) System ca… https://t.co/YboiA4Uio3 \n",
            "\n"
          ]
        }
      ]
    },
    {
      "cell_type": "markdown",
      "source": [
        "### Get your own tweets"
      ],
      "metadata": {
        "id": "K9jsvMAsi01T"
      }
    },
    {
      "cell_type": "code",
      "source": [
        "# Get Tweets (recent tweets from your account)\n",
        "tweets = api.user_timeline(count=2)\n",
        "for tweet in tweets:\n",
        "    print(tweet.text,'\\n')"
      ],
      "metadata": {
        "id": "KP2RvLJxLBpj",
        "colab": {
          "base_uri": "https://localhost:8080/"
        },
        "outputId": "0a59179f-55af-4266-ad98-1c4a4f0c69cd"
      },
      "execution_count": null,
      "outputs": [
        {
          "output_type": "stream",
          "name": "stdout",
          "text": [
            "Hey there!! Courtesy: Tweepy v3 \n",
            "\n",
            "Hey there!! Courtesy: Tweepy 2023 - v2 \n",
            "\n"
          ]
        }
      ]
    },
    {
      "cell_type": "code",
      "source": [
        "# Tweet object has lots of data. Let's check out the Tweet JSON specs\n",
        "tweets = api.user_timeline(count=2)\n",
        "for tweet in tweets:\n",
        "    print(tweet.created_at)\n",
        "    print(tweet.id_str)\n",
        "    print(tweet.text,'\\n')"
      ],
      "metadata": {
        "id": "W-o1zOpBMUgP",
        "colab": {
          "base_uri": "https://localhost:8080/"
        },
        "outputId": "b72db758-5b65-46fb-86f9-9bf2d9878889"
      },
      "execution_count": null,
      "outputs": [
        {
          "output_type": "stream",
          "name": "stdout",
          "text": [
            "2023-06-03 07:41:41+00:00\n",
            "1664900146411208707\n",
            "Hey there!! Courtesy: Tweepy v3 \n",
            "\n",
            "2023-06-03 07:34:25+00:00\n",
            "1664898317015236609\n",
            "Hey there!! Courtesy: Tweepy 2023 - v2 \n",
            "\n"
          ]
        }
      ]
    },
    {
      "cell_type": "markdown",
      "source": [
        "### Delete a tweet"
      ],
      "metadata": {
        "id": "ZJZbAx3hjCoY"
      }
    },
    {
      "cell_type": "code",
      "source": [
        "# Delete a Tweet\n",
        "to_be_deleted_tweet = api.update_status('Bad Tweet')"
      ],
      "metadata": {
        "id": "nW8T07MWMvVL"
      },
      "execution_count": null,
      "outputs": []
    },
    {
      "cell_type": "code",
      "source": [
        "api.destroy_status(to_be_deleted_tweet.id_str)"
      ],
      "metadata": {
        "id": "7qiYdLl-NTKr",
        "colab": {
          "base_uri": "https://localhost:8080/"
        },
        "outputId": "4489b95a-829c-4b87-978e-9827305d7259"
      },
      "execution_count": null,
      "outputs": [
        {
          "output_type": "execute_result",
          "data": {
            "text/plain": [
              "Status(_api=<tweepy.api.API object at 0x7fdc94218a90>, _json={'created_at': 'Sat Jun 03 07:41:52 +0000 2023', 'id': 1664900192649326592, 'id_str': '1664900192649326592', 'text': 'Bad Tweet', 'truncated': False, 'entities': {'hashtags': [], 'symbols': [], 'user_mentions': [], 'urls': []}, 'source': '<a href=\"https://skillcate.com\" rel=\"nofollow\">skillcate_text_analytics</a>', 'in_reply_to_status_id': None, 'in_reply_to_status_id_str': None, 'in_reply_to_user_id': None, 'in_reply_to_user_id_str': None, 'in_reply_to_screen_name': None, 'user': {'id': 1293517258958860288, 'id_str': '1293517258958860288', 'name': 'Skillcate AI', 'screen_name': 'skillcate', 'location': 'India', 'description': 'Industry Ready Project-based Courses on Machine Learning for Working Professionals', 'url': 'https://t.co/oiZ7ti5cqD', 'entities': {'url': {'urls': [{'url': 'https://t.co/oiZ7ti5cqD', 'expanded_url': 'https://youtube.com/skillcate', 'display_url': 'youtube.com/skillcate', 'indices': [0, 23]}]}, 'description': {'urls': []}}, 'protected': False, 'followers_count': 2, 'friends_count': 38, 'listed_count': 0, 'created_at': 'Wed Aug 12 11:59:03 +0000 2020', 'favourites_count': 3, 'utc_offset': None, 'time_zone': None, 'geo_enabled': False, 'verified': False, 'statuses_count': 14, 'lang': None, 'contributors_enabled': False, 'is_translator': False, 'is_translation_enabled': False, 'profile_background_color': 'F5F8FA', 'profile_background_image_url': None, 'profile_background_image_url_https': None, 'profile_background_tile': False, 'profile_image_url': 'http://pbs.twimg.com/profile_images/1551487803506462721/vigLY5B8_normal.jpg', 'profile_image_url_https': 'https://pbs.twimg.com/profile_images/1551487803506462721/vigLY5B8_normal.jpg', 'profile_link_color': '1DA1F2', 'profile_sidebar_border_color': 'C0DEED', 'profile_sidebar_fill_color': 'DDEEF6', 'profile_text_color': '333333', 'profile_use_background_image': True, 'has_extended_profile': True, 'default_profile': True, 'default_profile_image': False, 'following': False, 'follow_request_sent': False, 'notifications': False, 'translator_type': 'none', 'withheld_in_countries': []}, 'geo': None, 'coordinates': None, 'place': None, 'contributors': None, 'is_quote_status': False, 'retweet_count': 0, 'favorite_count': 0, 'favorited': False, 'retweeted': False, 'lang': 'en'}, created_at=datetime.datetime(2023, 6, 3, 7, 41, 52, tzinfo=datetime.timezone.utc), id=1664900192649326592, id_str='1664900192649326592', text='Bad Tweet', truncated=False, entities={'hashtags': [], 'symbols': [], 'user_mentions': [], 'urls': []}, source='skillcate_text_analytics', source_url='https://skillcate.com', in_reply_to_status_id=None, in_reply_to_status_id_str=None, in_reply_to_user_id=None, in_reply_to_user_id_str=None, in_reply_to_screen_name=None, author=User(_api=<tweepy.api.API object at 0x7fdc94218a90>, _json={'id': 1293517258958860288, 'id_str': '1293517258958860288', 'name': 'Skillcate AI', 'screen_name': 'skillcate', 'location': 'India', 'description': 'Industry Ready Project-based Courses on Machine Learning for Working Professionals', 'url': 'https://t.co/oiZ7ti5cqD', 'entities': {'url': {'urls': [{'url': 'https://t.co/oiZ7ti5cqD', 'expanded_url': 'https://youtube.com/skillcate', 'display_url': 'youtube.com/skillcate', 'indices': [0, 23]}]}, 'description': {'urls': []}}, 'protected': False, 'followers_count': 2, 'friends_count': 38, 'listed_count': 0, 'created_at': 'Wed Aug 12 11:59:03 +0000 2020', 'favourites_count': 3, 'utc_offset': None, 'time_zone': None, 'geo_enabled': False, 'verified': False, 'statuses_count': 14, 'lang': None, 'contributors_enabled': False, 'is_translator': False, 'is_translation_enabled': False, 'profile_background_color': 'F5F8FA', 'profile_background_image_url': None, 'profile_background_image_url_https': None, 'profile_background_tile': False, 'profile_image_url': 'http://pbs.twimg.com/profile_images/1551487803506462721/vigLY5B8_normal.jpg', 'profile_image_url_https': 'https://pbs.twimg.com/profile_images/1551487803506462721/vigLY5B8_normal.jpg', 'profile_link_color': '1DA1F2', 'profile_sidebar_border_color': 'C0DEED', 'profile_sidebar_fill_color': 'DDEEF6', 'profile_text_color': '333333', 'profile_use_background_image': True, 'has_extended_profile': True, 'default_profile': True, 'default_profile_image': False, 'following': False, 'follow_request_sent': False, 'notifications': False, 'translator_type': 'none', 'withheld_in_countries': []}, id=1293517258958860288, id_str='1293517258958860288', name='Skillcate AI', screen_name='skillcate', location='India', description='Industry Ready Project-based Courses on Machine Learning for Working Professionals', url='https://t.co/oiZ7ti5cqD', entities={'url': {'urls': [{'url': 'https://t.co/oiZ7ti5cqD', 'expanded_url': 'https://youtube.com/skillcate', 'display_url': 'youtube.com/skillcate', 'indices': [0, 23]}]}, 'description': {'urls': []}}, protected=False, followers_count=2, friends_count=38, listed_count=0, created_at=datetime.datetime(2020, 8, 12, 11, 59, 3, tzinfo=datetime.timezone.utc), favourites_count=3, utc_offset=None, time_zone=None, geo_enabled=False, verified=False, statuses_count=14, lang=None, contributors_enabled=False, is_translator=False, is_translation_enabled=False, profile_background_color='F5F8FA', profile_background_image_url=None, profile_background_image_url_https=None, profile_background_tile=False, profile_image_url='http://pbs.twimg.com/profile_images/1551487803506462721/vigLY5B8_normal.jpg', profile_image_url_https='https://pbs.twimg.com/profile_images/1551487803506462721/vigLY5B8_normal.jpg', profile_link_color='1DA1F2', profile_sidebar_border_color='C0DEED', profile_sidebar_fill_color='DDEEF6', profile_text_color='333333', profile_use_background_image=True, has_extended_profile=True, default_profile=True, default_profile_image=False, following=False, follow_request_sent=False, notifications=False, translator_type='none', withheld_in_countries=[]), user=User(_api=<tweepy.api.API object at 0x7fdc94218a90>, _json={'id': 1293517258958860288, 'id_str': '1293517258958860288', 'name': 'Skillcate AI', 'screen_name': 'skillcate', 'location': 'India', 'description': 'Industry Ready Project-based Courses on Machine Learning for Working Professionals', 'url': 'https://t.co/oiZ7ti5cqD', 'entities': {'url': {'urls': [{'url': 'https://t.co/oiZ7ti5cqD', 'expanded_url': 'https://youtube.com/skillcate', 'display_url': 'youtube.com/skillcate', 'indices': [0, 23]}]}, 'description': {'urls': []}}, 'protected': False, 'followers_count': 2, 'friends_count': 38, 'listed_count': 0, 'created_at': 'Wed Aug 12 11:59:03 +0000 2020', 'favourites_count': 3, 'utc_offset': None, 'time_zone': None, 'geo_enabled': False, 'verified': False, 'statuses_count': 14, 'lang': None, 'contributors_enabled': False, 'is_translator': False, 'is_translation_enabled': False, 'profile_background_color': 'F5F8FA', 'profile_background_image_url': None, 'profile_background_image_url_https': None, 'profile_background_tile': False, 'profile_image_url': 'http://pbs.twimg.com/profile_images/1551487803506462721/vigLY5B8_normal.jpg', 'profile_image_url_https': 'https://pbs.twimg.com/profile_images/1551487803506462721/vigLY5B8_normal.jpg', 'profile_link_color': '1DA1F2', 'profile_sidebar_border_color': 'C0DEED', 'profile_sidebar_fill_color': 'DDEEF6', 'profile_text_color': '333333', 'profile_use_background_image': True, 'has_extended_profile': True, 'default_profile': True, 'default_profile_image': False, 'following': False, 'follow_request_sent': False, 'notifications': False, 'translator_type': 'none', 'withheld_in_countries': []}, id=1293517258958860288, id_str='1293517258958860288', name='Skillcate AI', screen_name='skillcate', location='India', description='Industry Ready Project-based Courses on Machine Learning for Working Professionals', url='https://t.co/oiZ7ti5cqD', entities={'url': {'urls': [{'url': 'https://t.co/oiZ7ti5cqD', 'expanded_url': 'https://youtube.com/skillcate', 'display_url': 'youtube.com/skillcate', 'indices': [0, 23]}]}, 'description': {'urls': []}}, protected=False, followers_count=2, friends_count=38, listed_count=0, created_at=datetime.datetime(2020, 8, 12, 11, 59, 3, tzinfo=datetime.timezone.utc), favourites_count=3, utc_offset=None, time_zone=None, geo_enabled=False, verified=False, statuses_count=14, lang=None, contributors_enabled=False, is_translator=False, is_translation_enabled=False, profile_background_color='F5F8FA', profile_background_image_url=None, profile_background_image_url_https=None, profile_background_tile=False, profile_image_url='http://pbs.twimg.com/profile_images/1551487803506462721/vigLY5B8_normal.jpg', profile_image_url_https='https://pbs.twimg.com/profile_images/1551487803506462721/vigLY5B8_normal.jpg', profile_link_color='1DA1F2', profile_sidebar_border_color='C0DEED', profile_sidebar_fill_color='DDEEF6', profile_text_color='333333', profile_use_background_image=True, has_extended_profile=True, default_profile=True, default_profile_image=False, following=False, follow_request_sent=False, notifications=False, translator_type='none', withheld_in_countries=[]), geo=None, coordinates=None, place=None, contributors=None, is_quote_status=False, retweet_count=0, favorite_count=0, favorited=False, retweeted=False, lang='en')"
            ]
          },
          "metadata": {},
          "execution_count": 13
        }
      ]
    },
    {
      "cell_type": "markdown",
      "source": [
        "### Follow someone"
      ],
      "metadata": {
        "id": "lF7VgsCljJA-"
      }
    },
    {
      "cell_type": "code",
      "source": [
        "# Follow\n",
        "api.create_friendship(screen_name='@YouTube')"
      ],
      "metadata": {
        "colab": {
          "base_uri": "https://localhost:8080/"
        },
        "id": "t-ioeZc9B59d",
        "outputId": "03f2dabc-d53e-4bcc-c39f-0aea3b609d4a"
      },
      "execution_count": null,
      "outputs": [
        {
          "output_type": "execute_result",
          "data": {
            "text/plain": [
              "User(_api=<tweepy.api.API object at 0x7fdc94218a90>, _json={'id': 10228272, 'id_str': '10228272', 'name': 'YouTube', 'screen_name': 'YouTube', 'location': 'San Bruno, CA', 'description': 'like and subscribe.', 'url': 'https://t.co/bUisN3YzpE', 'entities': {'url': {'urls': [{'url': 'https://t.co/bUisN3YzpE', 'expanded_url': 'http://youtube.com', 'display_url': 'youtube.com', 'indices': [0, 23]}]}, 'description': {'urls': []}}, 'protected': False, 'followers_count': 78872070, 'friends_count': 1190, 'listed_count': 80154, 'created_at': 'Tue Nov 13 21:43:46 +0000 2007', 'favourites_count': 6169, 'utc_offset': None, 'time_zone': None, 'geo_enabled': False, 'verified': False, 'statuses_count': 54177, 'lang': None, 'status': {'created_at': 'Fri Jun 02 21:49:08 +0000 2023', 'id': 1664751023154425856, 'id_str': '1664751023154425856', 'text': '@Julia_Chef1 ooh what an iconic duo!!', 'truncated': False, 'entities': {'hashtags': [], 'symbols': [], 'user_mentions': [{'screen_name': 'Julia_Chef1', 'name': 'Julia', 'id': 1617717850948632576, 'id_str': '1617717850948632576', 'indices': [0, 12]}], 'urls': []}, 'source': '<a href=\"https://prod8.sprinklr.com/\" rel=\"nofollow\">Sprinklr Care</a>', 'in_reply_to_status_id': 1664749459648172032, 'in_reply_to_status_id_str': '1664749459648172032', 'in_reply_to_user_id': 1617717850948632576, 'in_reply_to_user_id_str': '1617717850948632576', 'in_reply_to_screen_name': 'Julia_Chef1', 'geo': None, 'coordinates': None, 'place': None, 'contributors': None, 'is_quote_status': False, 'retweet_count': 0, 'favorite_count': 2, 'favorited': False, 'retweeted': False, 'lang': 'en'}, 'contributors_enabled': False, 'is_translator': False, 'is_translation_enabled': True, 'profile_background_color': 'AF0000', 'profile_background_image_url': 'http://abs.twimg.com/images/themes/theme14/bg.gif', 'profile_background_image_url_https': 'https://abs.twimg.com/images/themes/theme14/bg.gif', 'profile_background_tile': True, 'profile_image_url': 'http://pbs.twimg.com/profile_images/1427292844612595720/RC1YSvuT_normal.jpg', 'profile_image_url_https': 'https://pbs.twimg.com/profile_images/1427292844612595720/RC1YSvuT_normal.jpg', 'profile_banner_url': 'https://pbs.twimg.com/profile_banners/10228272/1685635291', 'profile_link_color': 'C9191D', 'profile_sidebar_border_color': '000000', 'profile_sidebar_fill_color': 'EFEFEF', 'profile_text_color': '333333', 'profile_use_background_image': True, 'has_extended_profile': False, 'default_profile': False, 'default_profile_image': False, 'following': True, 'follow_request_sent': False, 'notifications': False, 'muting': False, 'translator_type': 'regular', 'withheld_in_countries': []}, id=10228272, id_str='10228272', name='YouTube', screen_name='YouTube', location='San Bruno, CA', description='like and subscribe.', url='https://t.co/bUisN3YzpE', entities={'url': {'urls': [{'url': 'https://t.co/bUisN3YzpE', 'expanded_url': 'http://youtube.com', 'display_url': 'youtube.com', 'indices': [0, 23]}]}, 'description': {'urls': []}}, protected=False, followers_count=78872070, friends_count=1190, listed_count=80154, created_at=datetime.datetime(2007, 11, 13, 21, 43, 46, tzinfo=datetime.timezone.utc), favourites_count=6169, utc_offset=None, time_zone=None, geo_enabled=False, verified=False, statuses_count=54177, lang=None, status=Status(_api=<tweepy.api.API object at 0x7fdc94218a90>, _json={'created_at': 'Fri Jun 02 21:49:08 +0000 2023', 'id': 1664751023154425856, 'id_str': '1664751023154425856', 'text': '@Julia_Chef1 ooh what an iconic duo!!', 'truncated': False, 'entities': {'hashtags': [], 'symbols': [], 'user_mentions': [{'screen_name': 'Julia_Chef1', 'name': 'Julia', 'id': 1617717850948632576, 'id_str': '1617717850948632576', 'indices': [0, 12]}], 'urls': []}, 'source': '<a href=\"https://prod8.sprinklr.com/\" rel=\"nofollow\">Sprinklr Care</a>', 'in_reply_to_status_id': 1664749459648172032, 'in_reply_to_status_id_str': '1664749459648172032', 'in_reply_to_user_id': 1617717850948632576, 'in_reply_to_user_id_str': '1617717850948632576', 'in_reply_to_screen_name': 'Julia_Chef1', 'geo': None, 'coordinates': None, 'place': None, 'contributors': None, 'is_quote_status': False, 'retweet_count': 0, 'favorite_count': 2, 'favorited': False, 'retweeted': False, 'lang': 'en'}, created_at=datetime.datetime(2023, 6, 2, 21, 49, 8, tzinfo=datetime.timezone.utc), id=1664751023154425856, id_str='1664751023154425856', text='@Julia_Chef1 ooh what an iconic duo!!', truncated=False, entities={'hashtags': [], 'symbols': [], 'user_mentions': [{'screen_name': 'Julia_Chef1', 'name': 'Julia', 'id': 1617717850948632576, 'id_str': '1617717850948632576', 'indices': [0, 12]}], 'urls': []}, source='Sprinklr Care', source_url='https://prod8.sprinklr.com/', in_reply_to_status_id=1664749459648172032, in_reply_to_status_id_str='1664749459648172032', in_reply_to_user_id=1617717850948632576, in_reply_to_user_id_str='1617717850948632576', in_reply_to_screen_name='Julia_Chef1', geo=None, coordinates=None, place=None, contributors=None, is_quote_status=False, retweet_count=0, favorite_count=2, favorited=False, retweeted=False, lang='en'), contributors_enabled=False, is_translator=False, is_translation_enabled=True, profile_background_color='AF0000', profile_background_image_url='http://abs.twimg.com/images/themes/theme14/bg.gif', profile_background_image_url_https='https://abs.twimg.com/images/themes/theme14/bg.gif', profile_background_tile=True, profile_image_url='http://pbs.twimg.com/profile_images/1427292844612595720/RC1YSvuT_normal.jpg', profile_image_url_https='https://pbs.twimg.com/profile_images/1427292844612595720/RC1YSvuT_normal.jpg', profile_banner_url='https://pbs.twimg.com/profile_banners/10228272/1685635291', profile_link_color='C9191D', profile_sidebar_border_color='000000', profile_sidebar_fill_color='EFEFEF', profile_text_color='333333', profile_use_background_image=True, has_extended_profile=False, default_profile=False, default_profile_image=False, following=True, follow_request_sent=False, notifications=False, muting=False, translator_type='regular', withheld_in_countries=[])"
            ]
          },
          "metadata": {},
          "execution_count": 14
        }
      ]
    },
    {
      "cell_type": "code",
      "source": [
        "# Unfollow\n",
        "api.destroy_friendship(screen_name='@YouTube')"
      ],
      "metadata": {
        "id": "aPcD9uy2NnAu",
        "colab": {
          "base_uri": "https://localhost:8080/"
        },
        "outputId": "c741cda1-f462-45f3-985a-e40052a08c4b"
      },
      "execution_count": null,
      "outputs": [
        {
          "output_type": "execute_result",
          "data": {
            "text/plain": [
              "User(_api=<tweepy.api.API object at 0x7fdc94218a90>, _json={'id': 10228272, 'id_str': '10228272', 'name': 'YouTube', 'screen_name': 'YouTube', 'location': 'San Bruno, CA', 'description': 'like and subscribe.', 'url': 'https://t.co/bUisN3YzpE', 'entities': {'url': {'urls': [{'url': 'https://t.co/bUisN3YzpE', 'expanded_url': 'http://youtube.com', 'display_url': 'youtube.com', 'indices': [0, 23]}]}, 'description': {'urls': []}}, 'protected': False, 'followers_count': 78872074, 'friends_count': 1190, 'listed_count': 80154, 'created_at': 'Tue Nov 13 21:43:46 +0000 2007', 'favourites_count': 6169, 'utc_offset': None, 'time_zone': None, 'geo_enabled': False, 'verified': False, 'statuses_count': 54177, 'lang': None, 'status': {'created_at': 'Fri Jun 02 21:49:08 +0000 2023', 'id': 1664751023154425856, 'id_str': '1664751023154425856', 'text': '@Julia_Chef1 ooh what an iconic duo!!', 'truncated': False, 'entities': {'hashtags': [], 'symbols': [], 'user_mentions': [{'screen_name': 'Julia_Chef1', 'name': 'Julia', 'id': 1617717850948632576, 'id_str': '1617717850948632576', 'indices': [0, 12]}], 'urls': []}, 'source': '<a href=\"https://prod8.sprinklr.com/\" rel=\"nofollow\">Sprinklr Care</a>', 'in_reply_to_status_id': 1664749459648172032, 'in_reply_to_status_id_str': '1664749459648172032', 'in_reply_to_user_id': 1617717850948632576, 'in_reply_to_user_id_str': '1617717850948632576', 'in_reply_to_screen_name': 'Julia_Chef1', 'geo': None, 'coordinates': None, 'place': None, 'contributors': None, 'is_quote_status': False, 'retweet_count': 0, 'favorite_count': 2, 'favorited': False, 'retweeted': False, 'lang': 'en'}, 'contributors_enabled': False, 'is_translator': False, 'is_translation_enabled': True, 'profile_background_color': 'AF0000', 'profile_background_image_url': 'http://abs.twimg.com/images/themes/theme14/bg.gif', 'profile_background_image_url_https': 'https://abs.twimg.com/images/themes/theme14/bg.gif', 'profile_background_tile': True, 'profile_image_url': 'http://pbs.twimg.com/profile_images/1427292844612595720/RC1YSvuT_normal.jpg', 'profile_image_url_https': 'https://pbs.twimg.com/profile_images/1427292844612595720/RC1YSvuT_normal.jpg', 'profile_banner_url': 'https://pbs.twimg.com/profile_banners/10228272/1685635291', 'profile_link_color': 'C9191D', 'profile_sidebar_border_color': '000000', 'profile_sidebar_fill_color': 'EFEFEF', 'profile_text_color': '333333', 'profile_use_background_image': True, 'has_extended_profile': False, 'default_profile': False, 'default_profile_image': False, 'following': True, 'follow_request_sent': False, 'notifications': False, 'muting': False, 'translator_type': 'regular', 'withheld_in_countries': []}, id=10228272, id_str='10228272', name='YouTube', screen_name='YouTube', location='San Bruno, CA', description='like and subscribe.', url='https://t.co/bUisN3YzpE', entities={'url': {'urls': [{'url': 'https://t.co/bUisN3YzpE', 'expanded_url': 'http://youtube.com', 'display_url': 'youtube.com', 'indices': [0, 23]}]}, 'description': {'urls': []}}, protected=False, followers_count=78872074, friends_count=1190, listed_count=80154, created_at=datetime.datetime(2007, 11, 13, 21, 43, 46, tzinfo=datetime.timezone.utc), favourites_count=6169, utc_offset=None, time_zone=None, geo_enabled=False, verified=False, statuses_count=54177, lang=None, status=Status(_api=<tweepy.api.API object at 0x7fdc94218a90>, _json={'created_at': 'Fri Jun 02 21:49:08 +0000 2023', 'id': 1664751023154425856, 'id_str': '1664751023154425856', 'text': '@Julia_Chef1 ooh what an iconic duo!!', 'truncated': False, 'entities': {'hashtags': [], 'symbols': [], 'user_mentions': [{'screen_name': 'Julia_Chef1', 'name': 'Julia', 'id': 1617717850948632576, 'id_str': '1617717850948632576', 'indices': [0, 12]}], 'urls': []}, 'source': '<a href=\"https://prod8.sprinklr.com/\" rel=\"nofollow\">Sprinklr Care</a>', 'in_reply_to_status_id': 1664749459648172032, 'in_reply_to_status_id_str': '1664749459648172032', 'in_reply_to_user_id': 1617717850948632576, 'in_reply_to_user_id_str': '1617717850948632576', 'in_reply_to_screen_name': 'Julia_Chef1', 'geo': None, 'coordinates': None, 'place': None, 'contributors': None, 'is_quote_status': False, 'retweet_count': 0, 'favorite_count': 2, 'favorited': False, 'retweeted': False, 'lang': 'en'}, created_at=datetime.datetime(2023, 6, 2, 21, 49, 8, tzinfo=datetime.timezone.utc), id=1664751023154425856, id_str='1664751023154425856', text='@Julia_Chef1 ooh what an iconic duo!!', truncated=False, entities={'hashtags': [], 'symbols': [], 'user_mentions': [{'screen_name': 'Julia_Chef1', 'name': 'Julia', 'id': 1617717850948632576, 'id_str': '1617717850948632576', 'indices': [0, 12]}], 'urls': []}, source='Sprinklr Care', source_url='https://prod8.sprinklr.com/', in_reply_to_status_id=1664749459648172032, in_reply_to_status_id_str='1664749459648172032', in_reply_to_user_id=1617717850948632576, in_reply_to_user_id_str='1617717850948632576', in_reply_to_screen_name='Julia_Chef1', geo=None, coordinates=None, place=None, contributors=None, is_quote_status=False, retweet_count=0, favorite_count=2, favorited=False, retweeted=False, lang='en'), contributors_enabled=False, is_translator=False, is_translation_enabled=True, profile_background_color='AF0000', profile_background_image_url='http://abs.twimg.com/images/themes/theme14/bg.gif', profile_background_image_url_https='https://abs.twimg.com/images/themes/theme14/bg.gif', profile_background_tile=True, profile_image_url='http://pbs.twimg.com/profile_images/1427292844612595720/RC1YSvuT_normal.jpg', profile_image_url_https='https://pbs.twimg.com/profile_images/1427292844612595720/RC1YSvuT_normal.jpg', profile_banner_url='https://pbs.twimg.com/profile_banners/10228272/1685635291', profile_link_color='C9191D', profile_sidebar_border_color='000000', profile_sidebar_fill_color='EFEFEF', profile_text_color='333333', profile_use_background_image=True, has_extended_profile=False, default_profile=False, default_profile_image=False, following=True, follow_request_sent=False, notifications=False, muting=False, translator_type='regular', withheld_in_countries=[])"
            ]
          },
          "metadata": {},
          "execution_count": 15
        }
      ]
    },
    {
      "cell_type": "markdown",
      "source": [
        "## Tweepy - Client Class (Twitter API v2.0)"
      ],
      "metadata": {
        "id": "DyHJr7IyOTK3"
      }
    },
    {
      "cell_type": "markdown",
      "source": [
        "### Authentication"
      ],
      "metadata": {
        "id": "zSsoTq2NjPa2"
      }
    },
    {
      "cell_type": "code",
      "source": [
        "# !pip install tweepy==4.9.0\n",
        "# import tweepy"
      ],
      "metadata": {
        "id": "fIh4fpXefhCH"
      },
      "execution_count": null,
      "outputs": []
    },
    {
      "cell_type": "code",
      "source": [
        "# Authenticate with Twitter OAuth 2.0 Bearer Token (Application-only)\n",
        "client = tweepy.Client(Bearer_Token)"
      ],
      "metadata": {
        "id": "QZgz15VGRtjH"
      },
      "execution_count": null,
      "outputs": []
    },
    {
      "cell_type": "code",
      "source": [
        "# Pull tweets from twitter\n",
        "\n",
        "query = '#chatgpt -is:retweet lang:en'\n",
        "tweets = client.search_recent_tweets(query=query, tweet_fields=['context_annotations', 'created_at'], max_results=10)\n",
        "\n",
        "# Get tweets that contain the hashtag #TypeKeywordHere\n",
        "# -is:retweet means I don't want retweets\n",
        "# lang:en is asking for the tweets to be in english"
      ],
      "metadata": {
        "id": "FJCDgv47Oetp"
      },
      "execution_count": null,
      "outputs": []
    },
    {
      "cell_type": "code",
      "source": [
        "for tweet in tweets.data:\n",
        "    print('\\n**Tweet Text**\\n',tweet.text)"
      ],
      "metadata": {
        "colab": {
          "base_uri": "https://localhost:8080/"
        },
        "id": "W8NfGgEbOewv",
        "outputId": "b79242e1-d389-474a-8771-493720854193"
      },
      "execution_count": null,
      "outputs": [
        {
          "output_type": "stream",
          "name": "stdout",
          "text": [
            "\n",
            "**Tweet Text**\n",
            " Silly face contests. \n",
            "#ChatGPT账号 #ChatGPT https://t.co/dzxymS6qPV\n",
            "\n",
            "**Tweet Text**\n",
            " @MelisOnCheddar Just write to ChatGPT [200 copywriting prompts]. There is no need to go through this process.\n",
            "\n",
            "#copywriting #copywriter #ChatGPT #pompt\n",
            "\n",
            "**Tweet Text**\n",
            " Funny hat mishaps. \n",
            "#ChatGPT账号 #ChatGPT https://t.co/M1pbgeRmno\n",
            "\n",
            "**Tweet Text**\n",
            " TampaConnect .com SOLD for $1,188 at BuyDomains, Jun'23 (not mine).\n",
            "\n",
            "❤️ CoinGPT .xyz - Listed for Sale 🔥\n",
            "&gt; Visit the link for details.\n",
            "\n",
            "#Domains #GPT #AI #Bitcoin #NFT \n",
            "#CoinGPT #Coin #AutoGPT #Chat #ChatGPT #Love #Fashion #Beauty\n",
            "#SerieA #Web3 #blockchain #FACupFinal jisoo https://t.co/TCQ7jF7Pan\n",
            "\n",
            "**Tweet Text**\n",
            " magazineality\n",
            "pinnad\n",
            "hemhood\n",
            "taeniage\n",
            "horr\n",
            "requireful \n",
            "#NBA #ChatGPT #黑U\n",
            "\n",
            "**Tweet Text**\n",
            " Indian girls jump on the global coding bandwagon in #ChatGPT era\n",
            "\n",
            "Read: https://t.co/kB3rHMEfDe https://t.co/y3IGyX9p3g\n",
            "\n",
            "**Tweet Text**\n",
            " 【OpenAI】API「That model is currently overloaded with other requests. You can retry your request, or contact us through our help center at https://t.co/vgT3Sqi4Pd if the error persists.」\n",
            "👉 https://t.co/LTB5yhFhNs\n",
            "#ChatGPT #プログラミング https://t.co/3JM2EqWB02\n",
            "\n",
            "**Tweet Text**\n",
            " Can't wait for #ScholarAI for #ChatGPT to improve. It already is a remarkable help in retrieving papers. \n",
            "I like how errors are handled in ChatGPT itself. ChatGPT just seems so kind to report the issue to the devs personally. https://t.co/i3L5uquW4I\n",
            "\n",
            "**Tweet Text**\n",
            " FREE Social Ping Submission 138 Directories\n",
            "https://t.co/JdiWOCjHiT\n",
            "#FREE #Social #Ping #Submission 138 #Directories #SEO #ChatGPT\n",
            "\n",
            "**Tweet Text**\n",
            " #datastewardhip has just been super charged with @Dataiku 12 release and its #ChatGPT plugin\n",
            "\n",
            "here is a short video, highlighting a few use cases, and how ChatGPT is ready to use in dataiku\n",
            "https://t.co/EPv7C0rWwA\n"
          ]
        }
      ]
    }
  ]
}